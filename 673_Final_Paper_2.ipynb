{
 "cells": [
  {
   "cell_type": "code",
   "execution_count": 1,
   "id": "7f23cbba",
   "metadata": {},
   "outputs": [],
   "source": [
    "# Suppress warnings\n",
    "import warnings\n",
    "warnings.filterwarnings('ignore')\n",
    "\n",
    "import numpy as np\n",
    "import pandas as pd\n",
    "import math\n",
    "import statsmodels.api as sm\n",
    "from tqdm import tqdm\n",
    "import scipy.stats\n",
    "import matplotlib.pyplot as plt\n",
    "\n",
    "np.random.seed(673)"
   ]
  },
  {
   "cell_type": "code",
   "execution_count": 2,
   "id": "4424dfbb",
   "metadata": {},
   "outputs": [],
   "source": [
    "def alpha_beta(N_m, M, mu_alpha = 1., var_alpha = 0., rho_alpha = 0., mu_beta = 2., var_beta = 0., rho_beta = 0.):\n",
    "    \n",
    "    N = N_m * M\n",
    "    \n",
    "    if var_alpha != 0.:\n",
    "        var_mu = rho_alpha * var_alpha\n",
    "        var_nu = (1 - rho_alpha) * var_alpha\n",
    "        mu = np.random.normal(loc = 0., scale = np.sqrt(var_mu), size = M)\n",
    "        mu = np.repeat(mu, N_m)\n",
    "        nu = np.random.normal(loc = 0., scale = np.sqrt(var_nu), size = N)\n",
    "        alpha = (mu_alpha + mu + nu).reshape(-1, 1)\n",
    "    \n",
    "    elif var_alpha == 0.:\n",
    "        alpha = np.ones([N, 1]) * mu_alpha\n",
    "    \n",
    "    if var_beta != 0.:\n",
    "        var_mu = rho_beta * var_beta\n",
    "        var_nu = (1 - rho_beta) * var_beta\n",
    "        mu = np.random.normal(loc = 0., scale = np.sqrt(var_mu), size = M)\n",
    "        mu = np.repeat(mu, N_m)\n",
    "        nu = np.random.normal(loc = 0., scale = np.sqrt(var_nu), size = N)\n",
    "        beta = (mu_beta + mu + nu).reshape(-1, 1)\n",
    "    \n",
    "    elif var_beta == 0.:\n",
    "        beta = np.ones([N, 1]) * mu_beta\n",
    "    \n",
    "    return alpha, beta\n",
    "\n",
    "\n",
    "def generate(N_m, M, alpha, beta, mu_W = 2., var_W = 1., rho_W = 0., var_u = 1., rho_u = 0.):\n",
    "    \n",
    "    N = N_m * M\n",
    "    \n",
    "    var_eta = rho_u * var_u\n",
    "    var_epsilon = (1 - rho_u) * var_u\n",
    "    eta = np.random.normal(loc = 0., scale = np.sqrt(var_eta), size = M)\n",
    "    eta = np.repeat(eta, N_m)\n",
    "    epsilon = np.random.normal(loc = 0., scale = np.sqrt(var_epsilon), size = N)\n",
    "    \n",
    "    var_zeta = rho_W * var_W\n",
    "    var_xi = (1 - rho_W) * var_W\n",
    "    zeta = np.random.normal(loc = mu_W, scale = np.sqrt(var_zeta), size = M)\n",
    "    zeta = np.repeat(zeta, N_m)\n",
    "    xi = np.random.normal(loc = 0., scale = np.sqrt(var_xi), size = N)\n",
    "    \n",
    "    W = (zeta + xi).reshape(-1, 1)\n",
    "    u = (eta + epsilon).reshape(-1, 1)\n",
    "    \n",
    "    Y = alpha + beta * W + u\n",
    "    \n",
    "    X = np.concatenate((np.ones([N, 1]), W), axis = 1)\n",
    "    C = np.repeat(range(0, M), N_m).reshape(-1, 1)\n",
    "    \n",
    "    return Y, W, X, C\n",
    "\n",
    "\n",
    "def simulate(N_m, M, mu_alpha = 1., var_alpha = 0., rho_alpha = 0., mu_beta = 2., var_beta = 0., rho_beta = 0.,\n",
    "             mu_W = 2., var_W = 1., rho_W = 0., var_u = 1., rho_u = 0., R = 3000, verbose = True):\n",
    "    \n",
    "    N = N_m * M\n",
    "    \n",
    "    alpha, beta = alpha_beta(N_m, M, mu_alpha, var_alpha, rho_alpha, mu_beta, var_beta, rho_beta)\n",
    "    \n",
    "    betahats = []; std_EHWs = []; std_LZs = []\n",
    "    \n",
    "    if verbose == True: range_R = tqdm(range(R))\n",
    "    else: range_R = range(R)\n",
    "    \n",
    "    for r in range_R:\n",
    "        \n",
    "        Y, W, X, C = generate(N_m, M, alpha, beta, mu_W, var_W, rho_W, var_u, rho_u)\n",
    "\n",
    "        results1 = sm.OLS(Y, X).fit(cov_type = 'HC0')\n",
    "        results2 = sm.OLS(Y, X).fit(cov_type = 'cluster', cov_kwds = {'groups': C, 'use_correction': False})\n",
    "        betahat = results1.params[1]\n",
    "\n",
    "        std_EHW = results1.bse[1]\n",
    "        std_LZ = results2.bse[1]\n",
    "\n",
    "        betahats += [betahat]\n",
    "        std_EHWs += [std_EHW]\n",
    "        std_LZs += [std_LZ]\n",
    "    \n",
    "    se_sim = np.std(betahats)\n",
    "    se_EHW = np.mean(std_EHWs)\n",
    "    se_LZ = np.mean(std_LZs)\n",
    "    lamb = (se_sim**2 - se_EHW**2)/(se_LZ**2 - se_EHW**2)\n",
    "    \n",
    "    return se_sim, se_EHW, se_LZ, lamb"
   ]
  },
  {
   "cell_type": "markdown",
   "id": "3b10a866",
   "metadata": {},
   "source": [
    "# Fixed Coefficient Model"
   ]
  },
  {
   "cell_type": "markdown",
   "id": "4d70ea0a",
   "metadata": {},
   "source": [
    "$$\n",
    "Y_{mi} = \\alpha + \\beta W_{mi} + u_{mi},\n",
    "$$\n",
    "where\n",
    "$$\n",
    "u_{mi} = \\eta_m + \\varepsilon_{mi} \\ \\ \\mathrm{ and } \\ \\ W_{mi} = \\zeta_m + \\xi_{mi}.\n",
    "$$"
   ]
  },
  {
   "cell_type": "markdown",
   "id": "1a7ccd4b",
   "metadata": {},
   "source": [
    "## Small M"
   ]
  },
  {
   "cell_type": "markdown",
   "id": "9525b6a0",
   "metadata": {},
   "source": [
    "### $\\rho_u = 0$ and $\\rho_W = 0$"
   ]
  },
  {
   "cell_type": "code",
   "execution_count": 3,
   "id": "c72f10e6",
   "metadata": {},
   "outputs": [
    {
     "name": "stderr",
     "output_type": "stream",
     "text": [
      "100%|██████████████████████████████████████████████████████████████████████████████| 3000/3000 [05:13<00:00,  9.56it/s]\n"
     ]
    },
    {
     "data": {
      "text/plain": [
       "(0.001950680957750434,\n",
       " 0.0019998699054920048,\n",
       " 0.001973964958757755,\n",
       " 1.8876986729727303)"
      ]
     },
     "execution_count": 3,
     "metadata": {},
     "output_type": "execute_result"
    }
   ],
   "source": [
    "N_m = 5000; M = 50\n",
    "rho_u = 0.; rho_W = 0.\n",
    "\n",
    "simulate(N_m = N_m, M = M, rho_u = rho_u, rho_W = rho_W)"
   ]
  },
  {
   "cell_type": "markdown",
   "id": "ac93639d",
   "metadata": {},
   "source": [
    "### $\\rho_u = 0$ and $\\rho_W = 0.5$"
   ]
  },
  {
   "cell_type": "code",
   "execution_count": 4,
   "id": "71231299",
   "metadata": {},
   "outputs": [
    {
     "name": "stderr",
     "output_type": "stream",
     "text": [
      "100%|██████████████████████████████████████████████████████████████████████████████| 3000/3000 [05:47<00:00,  8.64it/s]\n"
     ]
    },
    {
     "data": {
      "text/plain": [
       "(0.002043727404872417,\n",
       " 0.0020148692319997526,\n",
       " 0.0019685780523693735,\n",
       " -0.6351662297453128)"
      ]
     },
     "execution_count": 4,
     "metadata": {},
     "output_type": "execute_result"
    }
   ],
   "source": [
    "N_m = 5000; M = 50\n",
    "rho_u = 0.; rho_W = 0.5\n",
    "\n",
    "simulate(N_m = N_m, M = M, rho_u = rho_u, rho_W = rho_W)"
   ]
  },
  {
   "cell_type": "markdown",
   "id": "79afe802",
   "metadata": {},
   "source": [
    "### $\\rho_u = 0$ and $\\rho_W = 1$"
   ]
  },
  {
   "cell_type": "code",
   "execution_count": 5,
   "id": "fd23dad5",
   "metadata": {},
   "outputs": [
    {
     "name": "stderr",
     "output_type": "stream",
     "text": [
      "100%|██████████████████████████████████████████████████████████████████████████████| 3000/3000 [06:16<00:00,  7.97it/s]\n"
     ]
    },
    {
     "data": {
      "text/plain": [
       "(0.002028799328643162,\n",
       " 0.002052872358147353,\n",
       " 0.0019320786288492468,\n",
       " 0.20412746549837443)"
      ]
     },
     "execution_count": 5,
     "metadata": {},
     "output_type": "execute_result"
    }
   ],
   "source": [
    "N_m = 5000; M = 50\n",
    "rho_u = 0.; rho_W = 1.\n",
    "\n",
    "simulate(N_m = N_m, M = M, rho_u = rho_u, rho_W = rho_W)"
   ]
  },
  {
   "cell_type": "markdown",
   "id": "816327ba",
   "metadata": {},
   "source": [
    "### $\\rho_u = 0.5$ and $\\rho_W = 0$"
   ]
  },
  {
   "cell_type": "code",
   "execution_count": 6,
   "id": "a31e3ed5",
   "metadata": {},
   "outputs": [
    {
     "name": "stderr",
     "output_type": "stream",
     "text": [
      "100%|██████████████████████████████████████████████████████████████████████████████| 3000/3000 [06:15<00:00,  7.98it/s]\n"
     ]
    },
    {
     "data": {
      "text/plain": [
       "(0.0019906798122223137,\n",
       " 0.0019877035036159423,\n",
       " 0.0019388466517213706,\n",
       " -0.0617231321391143)"
      ]
     },
     "execution_count": 6,
     "metadata": {},
     "output_type": "execute_result"
    }
   ],
   "source": [
    "N_m = 5000; M = 50\n",
    "rho_u = 0.5; rho_W = 0.\n",
    "\n",
    "simulate(N_m = N_m, M = M, rho_u = rho_u, rho_W = rho_W)"
   ]
  },
  {
   "cell_type": "markdown",
   "id": "78eb54f9",
   "metadata": {},
   "source": [
    "### $\\rho_u = 0.5$ and $\\rho_W = 0.5$"
   ]
  },
  {
   "cell_type": "code",
   "execution_count": 7,
   "id": "b19d9c1a",
   "metadata": {},
   "outputs": [
    {
     "name": "stderr",
     "output_type": "stream",
     "text": [
      "100%|██████████████████████████████████████████████████████████████████████████████| 3000/3000 [06:22<00:00,  7.85it/s]\n"
     ]
    },
    {
     "data": {
      "text/plain": [
       "(0.06984630430061255,\n",
       " 0.001991028773653761,\n",
       " 0.06719359665272696,\n",
       " 1.0805864698614647)"
      ]
     },
     "execution_count": 7,
     "metadata": {},
     "output_type": "execute_result"
    }
   ],
   "source": [
    "N_m = 5000; M = 50\n",
    "rho_u = 0.5; rho_W = 0.5\n",
    "\n",
    "simulate(N_m = N_m, M = M, rho_u = rho_u, rho_W = rho_W)"
   ]
  },
  {
   "cell_type": "markdown",
   "id": "82270a50",
   "metadata": {},
   "source": [
    "### $\\rho_u = 0.5$ and $\\rho_W = 1$"
   ]
  },
  {
   "cell_type": "code",
   "execution_count": 8,
   "id": "2f6233c6",
   "metadata": {},
   "outputs": [
    {
     "name": "stderr",
     "output_type": "stream",
     "text": [
      "100%|██████████████████████████████████████████████████████████████████████████████| 3000/3000 [06:16<00:00,  7.97it/s]\n"
     ]
    },
    {
     "data": {
      "text/plain": [
       "(0.10213738214430941,\n",
       " 0.001995695246227409,\n",
       " 0.09671299417917438,\n",
       " 1.1153698878663383)"
      ]
     },
     "execution_count": 8,
     "metadata": {},
     "output_type": "execute_result"
    }
   ],
   "source": [
    "N_m = 5000; M = 50\n",
    "rho_u = 0.5; rho_W = 1\n",
    "\n",
    "simulate(N_m = N_m, M = M, rho_u = rho_u, rho_W = rho_W)"
   ]
  },
  {
   "cell_type": "markdown",
   "id": "e898de76",
   "metadata": {},
   "source": [
    "### $\\rho_u = 1$ and $\\rho_W = 0$"
   ]
  },
  {
   "cell_type": "code",
   "execution_count": 9,
   "id": "99566dd9",
   "metadata": {},
   "outputs": [
    {
     "name": "stderr",
     "output_type": "stream",
     "text": [
      "100%|██████████████████████████████████████████████████████████████████████████████| 3000/3000 [06:23<00:00,  7.82it/s]\n"
     ]
    },
    {
     "data": {
      "text/plain": [
       "(0.001998776090882659,\n",
       " 0.0019641572451612414,\n",
       " 0.0018950834808031734,\n",
       " -0.514652819286288)"
      ]
     },
     "execution_count": 9,
     "metadata": {},
     "output_type": "execute_result"
    }
   ],
   "source": [
    "N_m = 5000; M = 50\n",
    "rho_u = 1.; rho_W = 0.\n",
    "\n",
    "simulate(N_m = N_m, M = M, rho_u = rho_u, rho_W = rho_W)"
   ]
  },
  {
   "cell_type": "markdown",
   "id": "9bf17b75",
   "metadata": {},
   "source": [
    "### $\\rho_u = 1$ and $\\rho_W = 0.5$"
   ]
  },
  {
   "cell_type": "code",
   "execution_count": 10,
   "id": "5bdb98ab",
   "metadata": {},
   "outputs": [
    {
     "name": "stderr",
     "output_type": "stream",
     "text": [
      "100%|██████████████████████████████████████████████████████████████████████████████| 3000/3000 [06:16<00:00,  7.97it/s]\n"
     ]
    },
    {
     "data": {
      "text/plain": [
       "(0.10126767974752145,\n",
       " 0.001961754188062884,\n",
       " 0.09536778883266042,\n",
       " 1.1276104439690733)"
      ]
     },
     "execution_count": 10,
     "metadata": {},
     "output_type": "execute_result"
    }
   ],
   "source": [
    "N_m = 5000; M = 50\n",
    "rho_u = 1.; rho_W = 0.5\n",
    "\n",
    "simulate(N_m = N_m, M = M, rho_u = rho_u, rho_W = rho_W)"
   ]
  },
  {
   "cell_type": "markdown",
   "id": "d256af12",
   "metadata": {},
   "source": [
    "### $\\rho_u = 1$ and $\\rho_W = 1$"
   ]
  },
  {
   "cell_type": "code",
   "execution_count": 11,
   "id": "d9afd838",
   "metadata": {},
   "outputs": [
    {
     "name": "stderr",
     "output_type": "stream",
     "text": [
      "100%|██████████████████████████████████████████████████████████████████████████████| 3000/3000 [06:14<00:00,  8.01it/s]\n"
     ]
    },
    {
     "data": {
      "text/plain": [
       "(0.14358164323111164,\n",
       " 0.0019487659288523135,\n",
       " 0.13779856032367713,\n",
       " 1.0857137438967084)"
      ]
     },
     "execution_count": 11,
     "metadata": {},
     "output_type": "execute_result"
    }
   ],
   "source": [
    "N_m = 5000; M = 50\n",
    "rho_u = 1.; rho_W = 1.\n",
    "\n",
    "simulate(N_m = N_m, M = M, rho_u = rho_u, rho_W = rho_W)"
   ]
  },
  {
   "cell_type": "markdown",
   "id": "cf7e92e8",
   "metadata": {},
   "source": [
    "## Large M"
   ]
  },
  {
   "cell_type": "markdown",
   "id": "aab0c0d6",
   "metadata": {},
   "source": [
    "### $\\rho_u = 0$ and $\\rho_W = 0$"
   ]
  },
  {
   "cell_type": "code",
   "execution_count": 12,
   "id": "18ba798a",
   "metadata": {},
   "outputs": [
    {
     "name": "stderr",
     "output_type": "stream",
     "text": [
      "100%|██████████████████████████████████████████████████████████████████████████████| 3000/3000 [06:30<00:00,  7.67it/s]\n"
     ]
    },
    {
     "data": {
      "text/plain": [
       "(0.0020001630067210427,\n",
       " 0.0019999120357663378,\n",
       " 0.0019987200250629264,\n",
       " -0.21062019122825984)"
      ]
     },
     "execution_count": 12,
     "metadata": {},
     "output_type": "execute_result"
    }
   ],
   "source": [
    "N_m = 50; M = 5000\n",
    "rho_u = 0.; rho_W = 0.\n",
    "\n",
    "simulate(N_m = N_m, M = M, rho_u = rho_u, rho_W = rho_W)"
   ]
  },
  {
   "cell_type": "markdown",
   "id": "6c73b531",
   "metadata": {},
   "source": [
    "### $\\rho_u = 0$ and $\\rho_W = 0.5$"
   ]
  },
  {
   "cell_type": "code",
   "execution_count": 13,
   "id": "5cac14e5",
   "metadata": {},
   "outputs": [
    {
     "name": "stderr",
     "output_type": "stream",
     "text": [
      "100%|██████████████████████████████████████████████████████████████████████████████| 3000/3000 [06:29<00:00,  7.70it/s]\n"
     ]
    },
    {
     "data": {
      "text/plain": [
       "(0.001971089026777254,\n",
       " 0.0020004309715920257,\n",
       " 0.0019999862035681875,\n",
       " 65.49479845036907)"
      ]
     },
     "execution_count": 13,
     "metadata": {},
     "output_type": "execute_result"
    }
   ],
   "source": [
    "N_m = 50; M = 5000\n",
    "rho_u = 0.; rho_W = 0.5\n",
    "\n",
    "simulate(N_m = N_m, M = M, rho_u = rho_u, rho_W = rho_W)"
   ]
  },
  {
   "cell_type": "markdown",
   "id": "be7b476a",
   "metadata": {},
   "source": [
    "### $\\rho_u = 0$ and $\\rho_W = 1$"
   ]
  },
  {
   "cell_type": "code",
   "execution_count": 14,
   "id": "578443ab",
   "metadata": {},
   "outputs": [
    {
     "name": "stderr",
     "output_type": "stream",
     "text": [
      "100%|██████████████████████████████████████████████████████████████████████████████| 3000/3000 [06:39<00:00,  7.52it/s]\n"
     ]
    },
    {
     "data": {
      "text/plain": [
       "(0.0019956864920443055,\n",
       " 0.0020009169073519845,\n",
       " 0.001999425881089836,\n",
       " 3.5046506020057206)"
      ]
     },
     "execution_count": 14,
     "metadata": {},
     "output_type": "execute_result"
    }
   ],
   "source": [
    "N_m = 50; M = 5000\n",
    "rho_u = 0.; rho_W = 1.\n",
    "\n",
    "simulate(N_m = N_m, M = M, rho_u = rho_u, rho_W = rho_W)"
   ]
  },
  {
   "cell_type": "markdown",
   "id": "5de93df6",
   "metadata": {},
   "source": [
    "### $\\rho_u = 0.5$ and $\\rho_W = 0$"
   ]
  },
  {
   "cell_type": "code",
   "execution_count": 15,
   "id": "5026e577",
   "metadata": {},
   "outputs": [
    {
     "name": "stderr",
     "output_type": "stream",
     "text": [
      "100%|██████████████████████████████████████████████████████████████████████████████| 3000/3000 [06:16<00:00,  7.97it/s]\n"
     ]
    },
    {
     "data": {
      "text/plain": [
       "(0.0019652544662348242,\n",
       " 0.001999867003280447,\n",
       " 0.0019984817412618235,\n",
       " 24.778632324367976)"
      ]
     },
     "execution_count": 15,
     "metadata": {},
     "output_type": "execute_result"
    }
   ],
   "source": [
    "N_m = 50; M = 5000\n",
    "rho_u = 0.5; rho_W = 0.\n",
    "\n",
    "simulate(N_m = N_m, M = M, rho_u = rho_u, rho_W = rho_W)"
   ]
  },
  {
   "cell_type": "markdown",
   "id": "2e72b6f9",
   "metadata": {},
   "source": [
    "### $\\rho_u = 0.5$ and $\\rho_W = 0.5$"
   ]
  },
  {
   "cell_type": "code",
   "execution_count": 16,
   "id": "760ddd94",
   "metadata": {},
   "outputs": [
    {
     "name": "stderr",
     "output_type": "stream",
     "text": [
      "100%|██████████████████████████████████████████████████████████████████████████████| 3000/3000 [06:22<00:00,  7.84it/s]\n"
     ]
    },
    {
     "data": {
      "text/plain": [
       "(0.0073324486853127745,\n",
       " 0.0019997643617422757,\n",
       " 0.007272676846470754,\n",
       " 1.0178548933003253)"
      ]
     },
     "execution_count": 16,
     "metadata": {},
     "output_type": "execute_result"
    }
   ],
   "source": [
    "N_m = 50; M = 5000\n",
    "rho_u = 0.5; rho_W = 0.5\n",
    "\n",
    "simulate(N_m = N_m, M = M, rho_u = rho_u, rho_W = rho_W)"
   ]
  },
  {
   "cell_type": "markdown",
   "id": "cc4cd156",
   "metadata": {},
   "source": [
    "### $\\rho_u = 0.5$ and $\\rho_W = 1$"
   ]
  },
  {
   "cell_type": "code",
   "execution_count": 17,
   "id": "abf702df",
   "metadata": {},
   "outputs": [
    {
     "name": "stderr",
     "output_type": "stream",
     "text": [
      "100%|██████████████████████████████████████████████████████████████████████████████| 3000/3000 [06:16<00:00,  7.96it/s]\n"
     ]
    },
    {
     "data": {
      "text/plain": [
       "(0.009982652282897173,\n",
       " 0.0020001925378926888,\n",
       " 0.01009749929499292,\n",
       " 0.9764579879339395)"
      ]
     },
     "execution_count": 17,
     "metadata": {},
     "output_type": "execute_result"
    }
   ],
   "source": [
    "N_m = 50; M = 5000\n",
    "rho_u = 0.5; rho_W = 1.\n",
    "\n",
    "simulate(N_m = N_m, M = M, rho_u = rho_u, rho_W = rho_W)"
   ]
  },
  {
   "cell_type": "markdown",
   "id": "5b4383ac",
   "metadata": {},
   "source": [
    "### $\\rho_u = 1$ and $\\rho_W = 0$"
   ]
  },
  {
   "cell_type": "code",
   "execution_count": 18,
   "id": "3451e284",
   "metadata": {},
   "outputs": [
    {
     "name": "stderr",
     "output_type": "stream",
     "text": [
      "100%|██████████████████████████████████████████████████████████████████████████████| 3000/3000 [06:22<00:00,  7.84it/s]\n"
     ]
    },
    {
     "data": {
      "text/plain": [
       "(0.0020247591756505914,\n",
       " 0.002000013136910456,\n",
       " 0.001999702784737804,\n",
       " -80.23485430126543)"
      ]
     },
     "execution_count": 18,
     "metadata": {},
     "output_type": "execute_result"
    }
   ],
   "source": [
    "N_m = 50; M = 5000\n",
    "rho_u = 1.; rho_W = 0.\n",
    "\n",
    "simulate(N_m = N_m, M = M, rho_u = rho_u, rho_W = rho_W)"
   ]
  },
  {
   "cell_type": "markdown",
   "id": "0d2b9f2d",
   "metadata": {},
   "source": [
    "### $\\rho_u = 1$ and $\\rho_W = 0.5$"
   ]
  },
  {
   "cell_type": "code",
   "execution_count": 19,
   "id": "c74e2c44",
   "metadata": {},
   "outputs": [
    {
     "name": "stderr",
     "output_type": "stream",
     "text": [
      "100%|██████████████████████████████████████████████████████████████████████████████| 3000/3000 [06:25<00:00,  7.77it/s]\n"
     ]
    },
    {
     "data": {
      "text/plain": [
       "(0.01018592758196579,\n",
       " 0.001999733479918573,\n",
       " 0.010094918671190322,\n",
       " 1.0188516695565777)"
      ]
     },
     "execution_count": 19,
     "metadata": {},
     "output_type": "execute_result"
    }
   ],
   "source": [
    "N_m = 50; M = 5000\n",
    "rho_u = 1.; rho_W = 0.5\n",
    "\n",
    "simulate(N_m = N_m, M = M, rho_u = rho_u, rho_W = rho_W)"
   ]
  },
  {
   "cell_type": "markdown",
   "id": "87346783",
   "metadata": {},
   "source": [
    "### $\\rho_u = 1$ and $\\rho_W = 1$"
   ]
  },
  {
   "cell_type": "code",
   "execution_count": 20,
   "id": "b7936082",
   "metadata": {},
   "outputs": [
    {
     "name": "stderr",
     "output_type": "stream",
     "text": [
      "100%|██████████████████████████████████████████████████████████████████████████████| 3000/3000 [06:17<00:00,  7.96it/s]\n"
     ]
    },
    {
     "data": {
      "text/plain": [
       "(0.013830012453186739,\n",
       " 0.0019989503306994064,\n",
       " 0.014134713340926424,\n",
       " 0.9564804697764234)"
      ]
     },
     "execution_count": 20,
     "metadata": {},
     "output_type": "execute_result"
    }
   ],
   "source": [
    "N_m = 50; M = 5000\n",
    "rho_u = 1.; rho_W = 1.\n",
    "\n",
    "simulate(N_m = N_m, M = M, rho_u = rho_u, rho_W = rho_W)"
   ]
  },
  {
   "cell_type": "markdown",
   "id": "f588e242",
   "metadata": {},
   "source": [
    "### Small M vs. Large M"
   ]
  },
  {
   "cell_type": "code",
   "execution_count": 21,
   "id": "0d68ad29",
   "metadata": {},
   "outputs": [
    {
     "name": "stderr",
     "output_type": "stream",
     "text": [
      "100%|█████████████████████████████████████████████████████████████████████████████████| 7/7 [1:07:36<00:00, 579.57s/it]\n"
     ]
    }
   ],
   "source": [
    "M = 50\n",
    "rho_W = 1.; rho_u = 1.\n",
    "N_ms = [50, 100, 500, 1000, 5000, 10000, 50000]\n",
    "\n",
    "ratio_Nm = []\n",
    "\n",
    "for N_m in tqdm(N_ms):\n",
    "    \n",
    "    se_sim, se_EHW, se_LZ, lamb = simulate(N_m = N_m, M = M, rho_u = rho_u, rho_W = rho_W, verbose = False)\n",
    "    ratio_Nm += [se_LZ/se_sim]"
   ]
  },
  {
   "cell_type": "code",
   "execution_count": 22,
   "id": "6e0bf0c6",
   "metadata": {},
   "outputs": [
    {
     "data": {
      "image/png": "[encoded data removed]",
      "text/plain": [
       "<Figure size 432x288 with 1 Axes>"
      ]
     },
     "metadata": {
      "needs_background": "light"
     },
     "output_type": "display_data"
    }
   ],
   "source": [
    "plt.plot(N_ms, ratio_Nm)\n",
    "plt.axhline(y = 1., color = 'red')\n",
    "plt.xlabel(r'$N_m$')\n",
    "plt.xscale('log')\n",
    "plt.savefig('./images/newimage01', bbox_inches = 'tight')\n",
    "plt.show()"
   ]
  },
  {
   "cell_type": "code",
   "execution_count": 23,
   "id": "3aae0e17",
   "metadata": {},
   "outputs": [
    {
     "name": "stderr",
     "output_type": "stream",
     "text": [
      "100%|█████████████████████████████████████████████████████████████████████████████████| 7/7 [1:10:19<00:00, 602.85s/it]\n"
     ]
    }
   ],
   "source": [
    "N_m = 50\n",
    "rho_W = 1.; rho_u = 1.\n",
    "Ms = [50, 100, 500, 1000, 5000, 10000, 50000]\n",
    "\n",
    "ratio_M = []\n",
    "\n",
    "for M in tqdm(Ms):\n",
    "    \n",
    "    se_sim, se_EHW, se_LZ, lamb = simulate(N_m = N_m, M = M, rho_u = rho_u, rho_W = rho_W, verbose = False)\n",
    "    ratio_M += [se_LZ/se_sim]"
   ]
  },
  {
   "cell_type": "code",
   "execution_count": 24,
   "id": "deff89f5",
   "metadata": {},
   "outputs": [
    {
     "data": {
      "image/png": "[encoded data removed]",
      "text/plain": [
       "<Figure size 432x288 with 1 Axes>"
      ]
     },
     "metadata": {
      "needs_background": "light"
     },
     "output_type": "display_data"
    }
   ],
   "source": [
    "plt.plot(Ms, ratio_M)\n",
    "plt.axhline(y = 1., color = 'red')\n",
    "plt.xlabel(r'$M$')\n",
    "plt.xscale('log')\n",
    "plt.savefig('./images/newimage02', bbox_inches = 'tight')\n",
    "plt.show()"
   ]
  },
  {
   "cell_type": "markdown",
   "id": "da45fddf",
   "metadata": {},
   "source": [
    "# Random Coefficient Model"
   ]
  },
  {
   "cell_type": "markdown",
   "id": "0fa761e1",
   "metadata": {},
   "source": [
    "$$\n",
    "Y_{mi} = \\alpha + \\beta_{mi} W_{mi} + u_{mi},\n",
    "$$\n",
    "where\n",
    "$$\n",
    "u_{mi} = \\eta_m + \\varepsilon_{mi}, \\ \\ W_{mi} = \\zeta_m + \\xi_{mi} \\ \\ \\mathrm{ and } \\ \\ \\beta_{mi} = \\beta + \\mu_m + \\nu_{mi}.\n",
    "$$"
   ]
  },
  {
   "cell_type": "markdown",
   "id": "8bec64b9",
   "metadata": {},
   "source": [
    "## $\\rho_\\beta = 0$"
   ]
  },
  {
   "cell_type": "markdown",
   "id": "59d4f84e",
   "metadata": {},
   "source": [
    "### Small M"
   ]
  },
  {
   "cell_type": "markdown",
   "id": "09403297",
   "metadata": {},
   "source": [
    "#### $\\rho_u = 0$ and $\\rho_W = 0$"
   ]
  },
  {
   "cell_type": "code",
   "execution_count": 25,
   "id": "6faf2654",
   "metadata": {},
   "outputs": [
    {
     "name": "stderr",
     "output_type": "stream",
     "text": [
      "100%|██████████████████████████████████████████████████████████████████████████████| 3000/3000 [06:36<00:00,  7.57it/s]\n"
     ]
    },
    {
     "data": {
      "text/plain": [
       "(0.005325732020855824,\n",
       " 0.005658302691230112,\n",
       " 0.005492215711155363,\n",
       " 1.9724917493635616)"
      ]
     },
     "execution_count": 25,
     "metadata": {},
     "output_type": "execute_result"
    }
   ],
   "source": [
    "N_m = 5000; M = 50\n",
    "rho_u = 0.; rho_W = 0.\n",
    "\n",
    "simulate(N_m = N_m, M = M, rho_u = rho_u, rho_W = rho_W, var_beta = 1., rho_beta = 0.)"
   ]
  },
  {
   "cell_type": "markdown",
   "id": "738d1434",
   "metadata": {},
   "source": [
    "#### $\\rho_u = 0$ and $\\rho_W = 0.5$"
   ]
  },
  {
   "cell_type": "code",
   "execution_count": 26,
   "id": "4ff33257",
   "metadata": {},
   "outputs": [
    {
     "name": "stderr",
     "output_type": "stream",
     "text": [
      "100%|██████████████████████████████████████████████████████████████████████████████| 3000/3000 [06:26<00:00,  7.77it/s]\n"
     ]
    },
    {
     "data": {
      "text/plain": [
       "(0.0052982301269633245,\n",
       " 0.0056827200769315155,\n",
       " 0.005479561779694547,\n",
       " 1.861818604749033)"
      ]
     },
     "execution_count": 26,
     "metadata": {},
     "output_type": "execute_result"
    }
   ],
   "source": [
    "N_m = 5000; M = 50\n",
    "rho_u = 0.; rho_W = 0.5\n",
    "\n",
    "simulate(N_m = N_m, M = M, rho_u = rho_u, rho_W = rho_W, var_beta = 1., rho_beta = 0.)"
   ]
  },
  {
   "cell_type": "markdown",
   "id": "0cbaadaa",
   "metadata": {},
   "source": [
    "#### $\\rho_u = 0$ and $\\rho_W = 1$"
   ]
  },
  {
   "cell_type": "code",
   "execution_count": 27,
   "id": "42dd2343",
   "metadata": {},
   "outputs": [
    {
     "name": "stderr",
     "output_type": "stream",
     "text": [
      "100%|██████████████████████████████████████████████████████████████████████████████| 3000/3000 [06:29<00:00,  7.70it/s]\n"
     ]
    },
    {
     "data": {
      "text/plain": [
       "(0.005176541735680896,\n",
       " 0.005698409190512,\n",
       " 0.004874671461386308,\n",
       " 0.651623917552003)"
      ]
     },
     "execution_count": 27,
     "metadata": {},
     "output_type": "execute_result"
    }
   ],
   "source": [
    "N_m = 5000; M = 50\n",
    "rho_u = 0.; rho_W = 1.\n",
    "\n",
    "simulate(N_m = N_m, M = M, rho_u = rho_u, rho_W = rho_W, var_beta = 1., rho_beta = 0.)"
   ]
  },
  {
   "cell_type": "markdown",
   "id": "4538aac5",
   "metadata": {},
   "source": [
    "#### $\\rho_u = 0.5$ and $\\rho_W = 0$"
   ]
  },
  {
   "cell_type": "code",
   "execution_count": 28,
   "id": "12af27d1",
   "metadata": {},
   "outputs": [
    {
     "name": "stderr",
     "output_type": "stream",
     "text": [
      "100%|██████████████████████████████████████████████████████████████████████████████| 3000/3000 [06:27<00:00,  7.74it/s]\n"
     ]
    },
    {
     "data": {
      "text/plain": [
       "(0.005386503906043139,\n",
       " 0.00565826090541844,\n",
       " 0.005571141565401083,\n",
       " 3.0680751047619097)"
      ]
     },
     "execution_count": 28,
     "metadata": {},
     "output_type": "execute_result"
    }
   ],
   "source": [
    "N_m = 5000; M = 50\n",
    "rho_u = 0.5; rho_W = 0.\n",
    "\n",
    "simulate(N_m = N_m, M = M, rho_u = rho_u, rho_W = rho_W, var_beta = 1., rho_beta = 0.)"
   ]
  },
  {
   "cell_type": "markdown",
   "id": "013ad143",
   "metadata": {},
   "source": [
    "#### $\\rho_u = 0.5$ and $\\rho_W = 0.5$"
   ]
  },
  {
   "cell_type": "code",
   "execution_count": 29,
   "id": "9988edb8",
   "metadata": {},
   "outputs": [
    {
     "name": "stderr",
     "output_type": "stream",
     "text": [
      "100%|██████████████████████████████████████████████████████████████████████████████| 3000/3000 [06:11<00:00,  8.08it/s]\n"
     ]
    },
    {
     "data": {
      "text/plain": [
       "(0.07002344298875848,\n",
       " 0.005666062331916344,\n",
       " 0.0672570780142181,\n",
       " 1.0845542939206527)"
      ]
     },
     "execution_count": 29,
     "metadata": {},
     "output_type": "execute_result"
    }
   ],
   "source": [
    "N_m = 5000; M = 50\n",
    "rho_u = 0.5; rho_W = 0.5\n",
    "\n",
    "simulate(N_m = N_m, M = M, rho_u = rho_u, rho_W = rho_W, var_beta = 1., rho_beta = 0.)"
   ]
  },
  {
   "cell_type": "markdown",
   "id": "c418ca36",
   "metadata": {},
   "source": [
    "#### $\\rho_u = 0.5$ and $\\rho_W = 1$"
   ]
  },
  {
   "cell_type": "code",
   "execution_count": 30,
   "id": "003e4098",
   "metadata": {},
   "outputs": [
    {
     "name": "stderr",
     "output_type": "stream",
     "text": [
      "100%|██████████████████████████████████████████████████████████████████████████████| 3000/3000 [06:51<00:00,  7.30it/s]\n"
     ]
    },
    {
     "data": {
      "text/plain": [
       "(0.10492678016259359,\n",
       " 0.00570685511168106,\n",
       " 0.0977594144954089,\n",
       " 1.1525278230874008)"
      ]
     },
     "execution_count": 30,
     "metadata": {},
     "output_type": "execute_result"
    }
   ],
   "source": [
    "N_m = 5000; M = 50\n",
    "rho_u = 0.5; rho_W = 1.\n",
    "\n",
    "simulate(N_m = N_m, M = M, rho_u = rho_u, rho_W = rho_W, var_beta = 1., rho_beta = 0.)"
   ]
  },
  {
   "cell_type": "markdown",
   "id": "1e946649",
   "metadata": {},
   "source": [
    "#### $\\rho_u = 1$ and $\\rho_W = 0$"
   ]
  },
  {
   "cell_type": "code",
   "execution_count": 31,
   "id": "5e94be24",
   "metadata": {},
   "outputs": [
    {
     "name": "stderr",
     "output_type": "stream",
     "text": [
      "100%|██████████████████████████████████████████████████████████████████████████████| 3000/3000 [06:49<00:00,  7.33it/s]\n"
     ]
    },
    {
     "data": {
      "text/plain": [
       "(0.0052187907873767845,\n",
       " 0.005640858480756412,\n",
       " 0.00564255251870029,\n",
       " -239.79182266515835)"
      ]
     },
     "execution_count": 31,
     "metadata": {},
     "output_type": "execute_result"
    }
   ],
   "source": [
    "N_m = 5000; M = 50\n",
    "rho_u = 1.; rho_W = 0.\n",
    "\n",
    "simulate(N_m = N_m, M = M, rho_u = rho_u, rho_W = rho_W, var_beta = 1., rho_beta = 0.)"
   ]
  },
  {
   "cell_type": "markdown",
   "id": "234abc4a",
   "metadata": {},
   "source": [
    "#### $\\rho_u = 1$ and $\\rho_W = 0.5$"
   ]
  },
  {
   "cell_type": "code",
   "execution_count": 32,
   "id": "9aabdfd4",
   "metadata": {},
   "outputs": [
    {
     "name": "stderr",
     "output_type": "stream",
     "text": [
      "100%|██████████████████████████████████████████████████████████████████████████████| 3000/3000 [06:53<00:00,  7.26it/s]\n"
     ]
    },
    {
     "data": {
      "text/plain": [
       "(0.10108030519398307,\n",
       " 0.005644960682024484,\n",
       " 0.09498841220628215,\n",
       " 1.1328482440691916)"
      ]
     },
     "execution_count": 32,
     "metadata": {},
     "output_type": "execute_result"
    }
   ],
   "source": [
    "N_m = 5000; M = 50\n",
    "rho_u = 1.; rho_W = 0.5\n",
    "\n",
    "simulate(N_m = N_m, M = M, rho_u = rho_u, rho_W = rho_W, var_beta = 1., rho_beta = 0.)"
   ]
  },
  {
   "cell_type": "markdown",
   "id": "83c31257",
   "metadata": {},
   "source": [
    "#### $\\rho_u = 1$ and $\\rho_W = 1$"
   ]
  },
  {
   "cell_type": "code",
   "execution_count": 33,
   "id": "3d14900d",
   "metadata": {},
   "outputs": [
    {
     "name": "stderr",
     "output_type": "stream",
     "text": [
      "100%|██████████████████████████████████████████████████████████████████████████████| 3000/3000 [06:57<00:00,  7.19it/s]\n"
     ]
    },
    {
     "data": {
      "text/plain": [
       "(0.14438680742343257,\n",
       " 0.005680460986518644,\n",
       " 0.1383392994157627,\n",
       " 1.0894919746030678)"
      ]
     },
     "execution_count": 33,
     "metadata": {},
     "output_type": "execute_result"
    }
   ],
   "source": [
    "N_m = 5000; M = 50\n",
    "rho_u = 1.; rho_W = 1.\n",
    "\n",
    "simulate(N_m = N_m, M = M, rho_u = rho_u, rho_W = rho_W, var_beta = 1., rho_beta = 0.)"
   ]
  },
  {
   "cell_type": "markdown",
   "id": "bc0d834b",
   "metadata": {},
   "source": [
    "### Large M"
   ]
  },
  {
   "cell_type": "markdown",
   "id": "dc8f879c",
   "metadata": {},
   "source": [
    "#### $\\rho_u = 0$ and $\\rho_W = 0$"
   ]
  },
  {
   "cell_type": "code",
   "execution_count": 34,
   "id": "b72676fb",
   "metadata": {},
   "outputs": [
    {
     "name": "stderr",
     "output_type": "stream",
     "text": [
      "100%|██████████████████████████████████████████████████████████████████████████████| 3000/3000 [07:13<00:00,  6.93it/s]\n"
     ]
    },
    {
     "data": {
      "text/plain": [
       "(0.005260386383282918,\n",
       " 0.005658978216273119,\n",
       " 0.0056595499491169056,\n",
       " -672.5780132153183)"
      ]
     },
     "execution_count": 34,
     "metadata": {},
     "output_type": "execute_result"
    }
   ],
   "source": [
    "N_m = 50; M = 5000\n",
    "rho_u = 0.; rho_W = 0.\n",
    "\n",
    "simulate(N_m = N_m, M = M, rho_u = rho_u, rho_W = rho_W, var_beta = 1., rho_beta = 0.)"
   ]
  },
  {
   "cell_type": "markdown",
   "id": "3ed85e4b",
   "metadata": {},
   "source": [
    "#### $\\rho_u = 0$ and $\\rho_W = 0.5$"
   ]
  },
  {
   "cell_type": "code",
   "execution_count": 35,
   "id": "14e85c12",
   "metadata": {},
   "outputs": [
    {
     "name": "stderr",
     "output_type": "stream",
     "text": [
      "100%|██████████████████████████████████████████████████████████████████████████████| 3000/3000 [07:04<00:00,  7.06it/s]\n"
     ]
    },
    {
     "data": {
      "text/plain": [
       "(0.005275320294399851,\n",
       " 0.005644339175670543,\n",
       " 0.005646335806125609,\n",
       " -178.74754510576946)"
      ]
     },
     "execution_count": 35,
     "metadata": {},
     "output_type": "execute_result"
    }
   ],
   "source": [
    "N_m = 50; M = 5000\n",
    "rho_u = 0.; rho_W = 0.5\n",
    "\n",
    "simulate(N_m = N_m, M = M, rho_u = rho_u, rho_W = rho_W, var_beta = 1., rho_beta = 0.)"
   ]
  },
  {
   "cell_type": "markdown",
   "id": "40001184",
   "metadata": {},
   "source": [
    "#### $\\rho_u = 0$ and $\\rho_W = 1$"
   ]
  },
  {
   "cell_type": "code",
   "execution_count": 36,
   "id": "74f95595",
   "metadata": {},
   "outputs": [
    {
     "name": "stderr",
     "output_type": "stream",
     "text": [
      "100%|██████████████████████████████████████████████████████████████████████████████| 3000/3000 [07:05<00:00,  7.04it/s]\n"
     ]
    },
    {
     "data": {
      "text/plain": [
       "(0.005224653084490695,\n",
       " 0.005655700490443792,\n",
       " 0.005661516419077648,\n",
       " -71.25401420386105)"
      ]
     },
     "execution_count": 36,
     "metadata": {},
     "output_type": "execute_result"
    }
   ],
   "source": [
    "N_m = 50; M = 5000\n",
    "rho_u = 0.; rho_W = 1\n",
    "\n",
    "simulate(N_m = N_m, M = M, rho_u = rho_u, rho_W = rho_W, var_beta = 1., rho_beta = 0.)"
   ]
  },
  {
   "cell_type": "markdown",
   "id": "322baa5c",
   "metadata": {},
   "source": [
    "#### $\\rho_u = 0.5$ and $\\rho_W = 0$"
   ]
  },
  {
   "cell_type": "code",
   "execution_count": 37,
   "id": "84266e71",
   "metadata": {},
   "outputs": [
    {
     "name": "stderr",
     "output_type": "stream",
     "text": [
      "100%|██████████████████████████████████████████████████████████████████████████████| 3000/3000 [07:07<00:00,  7.02it/s]\n"
     ]
    },
    {
     "data": {
      "text/plain": [
       "(0.005228577560817611,\n",
       " 0.0056520386690037654,\n",
       " 0.005656082241491023,\n",
       " -100.76537974144502)"
      ]
     },
     "execution_count": 37,
     "metadata": {},
     "output_type": "execute_result"
    }
   ],
   "source": [
    "N_m = 50; M = 5000\n",
    "rho_u = 0.5; rho_W = 0.\n",
    "\n",
    "simulate(N_m = N_m, M = M, rho_u = rho_u, rho_W = rho_W, var_beta = 1., rho_beta = 0.)"
   ]
  },
  {
   "cell_type": "markdown",
   "id": "13c04e3d",
   "metadata": {},
   "source": [
    "#### $\\rho_u = 0.5$ and $\\rho_W = 0.5$"
   ]
  },
  {
   "cell_type": "code",
   "execution_count": 38,
   "id": "8d91c76f",
   "metadata": {},
   "outputs": [
    {
     "name": "stderr",
     "output_type": "stream",
     "text": [
      "100%|██████████████████████████████████████████████████████████████████████████████| 3000/3000 [07:07<00:00,  7.01it/s]\n"
     ]
    },
    {
     "data": {
      "text/plain": [
       "(0.008784098856820098,\n",
       " 0.005643716087055895,\n",
       " 0.009004357721173865,\n",
       " 0.9204080874602015)"
      ]
     },
     "execution_count": 38,
     "metadata": {},
     "output_type": "execute_result"
    }
   ],
   "source": [
    "N_m = 50; M = 5000\n",
    "rho_u = 0.5; rho_W = 0.5\n",
    "\n",
    "simulate(N_m = N_m, M = M, rho_u = rho_u, rho_W = rho_W, var_beta = 1., rho_beta = 0.)"
   ]
  },
  {
   "cell_type": "markdown",
   "id": "387f806b",
   "metadata": {},
   "source": [
    "#### $\\rho_u = 0.5$ and $\\rho_W = 1$"
   ]
  },
  {
   "cell_type": "code",
   "execution_count": 39,
   "id": "437d4235",
   "metadata": {},
   "outputs": [
    {
     "name": "stderr",
     "output_type": "stream",
     "text": [
      "100%|██████████████████████████████████████████████████████████████████████████████| 3000/3000 [07:10<00:00,  6.97it/s]\n"
     ]
    },
    {
     "data": {
      "text/plain": [
       "(0.011199362229108568,\n",
       " 0.005647853952144483,\n",
       " 0.01136383806062105,\n",
       " 0.9618350880215274)"
      ]
     },
     "execution_count": 39,
     "metadata": {},
     "output_type": "execute_result"
    }
   ],
   "source": [
    "N_m = 50; M = 5000\n",
    "rho_u = 0.5; rho_W = 1.\n",
    "\n",
    "simulate(N_m = N_m, M = M, rho_u = rho_u, rho_W = rho_W, var_beta = 1., rho_beta = 0.)"
   ]
  },
  {
   "cell_type": "markdown",
   "id": "01e7587f",
   "metadata": {},
   "source": [
    "#### $\\rho_u = 1$ and $\\rho_W = 0$"
   ]
  },
  {
   "cell_type": "code",
   "execution_count": 40,
   "id": "bf701e17",
   "metadata": {},
   "outputs": [
    {
     "name": "stderr",
     "output_type": "stream",
     "text": [
      "100%|██████████████████████████████████████████████████████████████████████████████| 3000/3000 [07:05<00:00,  7.05it/s]\n"
     ]
    },
    {
     "data": {
      "text/plain": [
       "(0.005270976933683414,\n",
       " 0.005655913069994233,\n",
       " 0.005643908009050582,\n",
       " 31.006255263421963)"
      ]
     },
     "execution_count": 40,
     "metadata": {},
     "output_type": "execute_result"
    }
   ],
   "source": [
    "N_m = 50; M = 5000\n",
    "rho_u = 1.; rho_W = 0.\n",
    "\n",
    "simulate(N_m = N_m, M = M, rho_u = rho_u, rho_W = rho_W, var_beta = 1., rho_beta = 0.)"
   ]
  },
  {
   "cell_type": "markdown",
   "id": "2da14444",
   "metadata": {},
   "source": [
    "#### $\\rho_u = 1$ and $\\rho_W = 0.5$"
   ]
  },
  {
   "cell_type": "code",
   "execution_count": 41,
   "id": "b31b76ae",
   "metadata": {},
   "outputs": [
    {
     "name": "stderr",
     "output_type": "stream",
     "text": [
      "100%|██████████████████████████████████████████████████████████████████████████████| 3000/3000 [07:09<00:00,  6.99it/s]\n"
     ]
    },
    {
     "data": {
      "text/plain": [
       "(0.011436103376533986,\n",
       " 0.0056609430157124625,\n",
       " 0.011392997648811336,\n",
       " 1.010066737002915)"
      ]
     },
     "execution_count": 41,
     "metadata": {},
     "output_type": "execute_result"
    }
   ],
   "source": [
    "N_m = 50; M = 5000\n",
    "rho_u = 1.; rho_W = 0.5\n",
    "\n",
    "simulate(N_m = N_m, M = M, rho_u = rho_u, rho_W = rho_W, var_beta = 1., rho_beta = 0.)"
   ]
  },
  {
   "cell_type": "markdown",
   "id": "947d96d7",
   "metadata": {},
   "source": [
    "#### $\\rho_u = 1$ and $\\rho_W = 1$"
   ]
  },
  {
   "cell_type": "code",
   "execution_count": 42,
   "id": "2ce676fe",
   "metadata": {},
   "outputs": [
    {
     "name": "stderr",
     "output_type": "stream",
     "text": [
      "100%|██████████████████████████████████████████████████████████████████████████████| 3000/3000 [07:03<00:00,  7.09it/s]\n"
     ]
    },
    {
     "data": {
      "text/plain": [
       "(0.014747488072880295,\n",
       " 0.005661395832459826,\n",
       " 0.01509223088436965,\n",
       " 0.9474411568581923)"
      ]
     },
     "execution_count": 42,
     "metadata": {},
     "output_type": "execute_result"
    }
   ],
   "source": [
    "N_m = 50; M = 5000\n",
    "rho_u = 1.; rho_W = 1.\n",
    "\n",
    "simulate(N_m = N_m, M = M, rho_u = rho_u, rho_W = rho_W, var_beta = 1., rho_beta = 0.)"
   ]
  },
  {
   "cell_type": "markdown",
   "id": "c29cac1d",
   "metadata": {},
   "source": [
    "## $\\rho_\\beta = 0.5$"
   ]
  },
  {
   "cell_type": "markdown",
   "id": "973a1907",
   "metadata": {},
   "source": [
    "### Small M"
   ]
  },
  {
   "cell_type": "markdown",
   "id": "579f57ee",
   "metadata": {},
   "source": [
    "#### $\\rho_u = 0$ and $\\rho_W = 0$"
   ]
  },
  {
   "cell_type": "code",
   "execution_count": 43,
   "id": "4f66a70e",
   "metadata": {},
   "outputs": [
    {
     "name": "stderr",
     "output_type": "stream",
     "text": [
      "100%|██████████████████████████████████████████████████████████████████████████████| 3000/3000 [07:10<00:00,  6.97it/s]\n"
     ]
    },
    {
     "data": {
      "text/plain": [
       "(0.0052838987106784896,\n",
       " 0.005596911239344525,\n",
       " 0.09746352670129908,\n",
       " -0.0003597271738227946)"
      ]
     },
     "execution_count": 43,
     "metadata": {},
     "output_type": "execute_result"
    }
   ],
   "source": [
    "N_m = 5000; M = 50\n",
    "rho_u = 0.; rho_W = 0.\n",
    "\n",
    "simulate(N_m = N_m, M = M, rho_u = rho_u, rho_W = rho_W, var_beta = 1., rho_beta = 0.5)"
   ]
  },
  {
   "cell_type": "markdown",
   "id": "cc7fed72",
   "metadata": {},
   "source": [
    "#### $\\rho_u = 0$ and $\\rho_W = 0.5$"
   ]
  },
  {
   "cell_type": "code",
   "execution_count": 44,
   "id": "2755521e",
   "metadata": {},
   "outputs": [
    {
     "name": "stderr",
     "output_type": "stream",
     "text": [
      "100%|██████████████████████████████████████████████████████████████████████████████| 3000/3000 [07:00<00:00,  7.13it/s]\n"
     ]
    },
    {
     "data": {
      "text/plain": [
       "(0.14355814449679957,\n",
       " 0.005410447956491798,\n",
       " 0.16095222870551348,\n",
       " 0.795308082768642)"
      ]
     },
     "execution_count": 44,
     "metadata": {},
     "output_type": "execute_result"
    }
   ],
   "source": [
    "N_m = 5000; M = 50\n",
    "rho_u = 0.; rho_W = 0.5\n",
    "\n",
    "simulate(N_m = N_m, M = M, rho_u = rho_u, rho_W = rho_W, var_beta = 1., rho_beta = 0.5)"
   ]
  },
  {
   "cell_type": "markdown",
   "id": "137cff48",
   "metadata": {},
   "source": [
    "#### $\\rho_u = 0$ and $\\rho_W = 1$"
   ]
  },
  {
   "cell_type": "code",
   "execution_count": 45,
   "id": "92159fe7",
   "metadata": {},
   "outputs": [
    {
     "name": "stderr",
     "output_type": "stream",
     "text": [
      "100%|██████████████████████████████████████████████████████████████████████████████| 3000/3000 [07:02<00:00,  7.10it/s]\n"
     ]
    },
    {
     "data": {
      "text/plain": [
       "(0.24917442548723107,\n",
       " 0.005547341242985676,\n",
       " 0.2459443997925423,\n",
       " 1.026452245187498)"
      ]
     },
     "execution_count": 45,
     "metadata": {},
     "output_type": "execute_result"
    }
   ],
   "source": [
    "N_m = 5000; M = 50\n",
    "rho_u = 0.; rho_W = 1.\n",
    "\n",
    "simulate(N_m = N_m, M = M, rho_u = rho_u, rho_W = rho_W, var_beta = 1., rho_beta = 0.5)"
   ]
  },
  {
   "cell_type": "markdown",
   "id": "3183afcd",
   "metadata": {},
   "source": [
    "#### $\\rho_u = 0.5$ and $\\rho_W = 0$"
   ]
  },
  {
   "cell_type": "code",
   "execution_count": 46,
   "id": "a8f3211c",
   "metadata": {},
   "outputs": [
    {
     "name": "stderr",
     "output_type": "stream",
     "text": [
      "100%|██████████████████████████████████████████████████████████████████████████████| 3000/3000 [06:59<00:00,  7.16it/s]\n"
     ]
    },
    {
     "data": {
      "text/plain": [
       "(0.005110587037319631,\n",
       " 0.005559692127065772,\n",
       " 0.0963505307794772,\n",
       " -0.0005179215474223145)"
      ]
     },
     "execution_count": 46,
     "metadata": {},
     "output_type": "execute_result"
    }
   ],
   "source": [
    "N_m = 5000; M = 50\n",
    "rho_u = 0.5; rho_W = 0.\n",
    "\n",
    "simulate(N_m = N_m, M = M, rho_u = rho_u, rho_W = rho_W, var_beta = 1., rho_beta = 0.5)"
   ]
  },
  {
   "cell_type": "markdown",
   "id": "426ab61e",
   "metadata": {},
   "source": [
    "#### $\\rho_u = 0.5$ and $\\rho_W = 0.5$"
   ]
  },
  {
   "cell_type": "code",
   "execution_count": 47,
   "id": "fca4fb18",
   "metadata": {},
   "outputs": [
    {
     "name": "stderr",
     "output_type": "stream",
     "text": [
      "100%|██████████████████████████████████████████████████████████████████████████████| 3000/3000 [07:09<00:00,  6.98it/s]\n"
     ]
    },
    {
     "data": {
      "text/plain": [
       "(0.2015781382290173,\n",
       " 0.006056218682364446,\n",
       " 0.21936813995962984,\n",
       " 0.84426483251119)"
      ]
     },
     "execution_count": 47,
     "metadata": {},
     "output_type": "execute_result"
    }
   ],
   "source": [
    "N_m = 5000; M = 50\n",
    "rho_u = 0.5; rho_W = 0.5\n",
    "\n",
    "simulate(N_m = N_m, M = M, rho_u = rho_u, rho_W = rho_W, var_beta = 1., rho_beta = 0.5)"
   ]
  },
  {
   "cell_type": "markdown",
   "id": "650c86e0",
   "metadata": {},
   "source": [
    "#### $\\rho_u = 0.5$ and $\\rho_W = 1$"
   ]
  },
  {
   "cell_type": "code",
   "execution_count": 48,
   "id": "5f125a39",
   "metadata": {},
   "outputs": [
    {
     "name": "stderr",
     "output_type": "stream",
     "text": [
      "100%|██████████████████████████████████████████████████████████████████████████████| 3000/3000 [06:58<00:00,  7.16it/s]\n"
     ]
    },
    {
     "data": {
      "text/plain": [
       "(0.29060413601179674,\n",
       " 0.005667851625381777,\n",
       " 0.27788819196812575,\n",
       " 1.0936512838707162)"
      ]
     },
     "execution_count": 48,
     "metadata": {},
     "output_type": "execute_result"
    }
   ],
   "source": [
    "N_m = 5000; M = 50\n",
    "rho_u = 0.5; rho_W = 1.\n",
    "\n",
    "simulate(N_m = N_m, M = M, rho_u = rho_u, rho_W = rho_W, var_beta = 1., rho_beta = 0.5)"
   ]
  },
  {
   "cell_type": "markdown",
   "id": "6df6c189",
   "metadata": {},
   "source": [
    "#### $\\rho_u = 1$ and $\\rho_W = 0$"
   ]
  },
  {
   "cell_type": "code",
   "execution_count": 49,
   "id": "e65b5109",
   "metadata": {},
   "outputs": [
    {
     "name": "stderr",
     "output_type": "stream",
     "text": [
      "100%|██████████████████████████████████████████████████████████████████████████████| 3000/3000 [07:01<00:00,  7.11it/s]\n"
     ]
    },
    {
     "data": {
      "text/plain": [
       "(0.005469083938384975,\n",
       " 0.005901230801707026,\n",
       " 0.11000716249850975,\n",
       " -0.00040720536435426226)"
      ]
     },
     "execution_count": 49,
     "metadata": {},
     "output_type": "execute_result"
    }
   ],
   "source": [
    "N_m = 5000; M = 50\n",
    "rho_u = 1.; rho_W = 0.\n",
    "\n",
    "simulate(N_m = N_m, M = M, rho_u = rho_u, rho_W = rho_W, var_beta = 1., rho_beta = 0.5)"
   ]
  },
  {
   "cell_type": "markdown",
   "id": "033d7d6d",
   "metadata": {},
   "source": [
    "#### $\\rho_u = 1$ and $\\rho_W = 0.5$"
   ]
  },
  {
   "cell_type": "code",
   "execution_count": 50,
   "id": "dc41c5c7",
   "metadata": {},
   "outputs": [
    {
     "name": "stderr",
     "output_type": "stream",
     "text": [
      "100%|██████████████████████████████████████████████████████████████████████████████| 3000/3000 [06:53<00:00,  7.25it/s]\n"
     ]
    },
    {
     "data": {
      "text/plain": [
       "(0.16269456958340256,\n",
       " 0.005202983835425693,\n",
       " 0.17442768296075323,\n",
       " 0.8698762847104683)"
      ]
     },
     "execution_count": 50,
     "metadata": {},
     "output_type": "execute_result"
    }
   ],
   "source": [
    "N_m = 5000; M = 50\n",
    "rho_u = 1.; rho_W = 0.5\n",
    "\n",
    "simulate(N_m = N_m, M = M, rho_u = rho_u, rho_W = rho_W, var_beta = 1., rho_beta = 0.5)"
   ]
  },
  {
   "cell_type": "markdown",
   "id": "0428824b",
   "metadata": {},
   "source": [
    "#### $\\rho_u = 1$ and $\\rho_W = 1$"
   ]
  },
  {
   "cell_type": "code",
   "execution_count": 51,
   "id": "1239db74",
   "metadata": {},
   "outputs": [
    {
     "name": "stderr",
     "output_type": "stream",
     "text": [
      "100%|██████████████████████████████████████████████████████████████████████████████| 3000/3000 [06:53<00:00,  7.26it/s]\n"
     ]
    },
    {
     "data": {
      "text/plain": [
       "(0.310613898347227,\n",
       " 0.0057258789201520745,\n",
       " 0.3019973878974347,\n",
       " 1.05789835021845)"
      ]
     },
     "execution_count": 51,
     "metadata": {},
     "output_type": "execute_result"
    }
   ],
   "source": [
    "N_m = 5000; M = 50\n",
    "rho_u = 1.; rho_W = 1.\n",
    "\n",
    "simulate(N_m = N_m, M = M, rho_u = rho_u, rho_W = rho_W, var_beta = 1., rho_beta = 0.5)"
   ]
  },
  {
   "cell_type": "markdown",
   "id": "9131548f",
   "metadata": {},
   "source": [
    "### Large M"
   ]
  },
  {
   "cell_type": "markdown",
   "id": "ca92efc7",
   "metadata": {},
   "source": [
    "#### $\\rho_u = 0$ and $\\rho_W = 0$"
   ]
  },
  {
   "cell_type": "code",
   "execution_count": 52,
   "id": "7df796c0",
   "metadata": {},
   "outputs": [
    {
     "name": "stderr",
     "output_type": "stream",
     "text": [
      "100%|██████████████████████████████████████████████████████████████████████████████| 3000/3000 [07:00<00:00,  7.14it/s]\n"
     ]
    },
    {
     "data": {
      "text/plain": [
       "(0.005368785860659189,\n",
       " 0.0056831756430222894,\n",
       " 0.01151422541713563,\n",
       " -0.03464959944241466)"
      ]
     },
     "execution_count": 52,
     "metadata": {},
     "output_type": "execute_result"
    }
   ],
   "source": [
    "N_m = 50; M = 5000\n",
    "rho_u = 0.; rho_W = 0.\n",
    "\n",
    "simulate(N_m = N_m, M = M, rho_u = rho_u, rho_W = rho_W, var_beta = 1., rho_beta = 0.5)"
   ]
  },
  {
   "cell_type": "markdown",
   "id": "c0538b5e",
   "metadata": {},
   "source": [
    "#### $\\rho_u = 0$ and $\\rho_W = 0.5$"
   ]
  },
  {
   "cell_type": "code",
   "execution_count": 53,
   "id": "08148d92",
   "metadata": {},
   "outputs": [
    {
     "name": "stderr",
     "output_type": "stream",
     "text": [
      "100%|██████████████████████████████████████████████████████████████████████████████| 3000/3000 [06:51<00:00,  7.29it/s]\n"
     ]
    },
    {
     "data": {
      "text/plain": [
       "(0.016521368849474468,\n",
       " 0.005688488127794552,\n",
       " 0.01954359595811991,\n",
       " 0.6882190499240196)"
      ]
     },
     "execution_count": 53,
     "metadata": {},
     "output_type": "execute_result"
    }
   ],
   "source": [
    "N_m = 50; M = 5000\n",
    "rho_u = 0.; rho_W = 0.5\n",
    "\n",
    "simulate(N_m = N_m, M = M, rho_u = rho_u, rho_W = rho_W, var_beta = 1., rho_beta = 0.5)"
   ]
  },
  {
   "cell_type": "markdown",
   "id": "12eecc81",
   "metadata": {},
   "source": [
    "#### $\\rho_u = 0$ and $\\rho_W = 1$"
   ]
  },
  {
   "cell_type": "code",
   "execution_count": 54,
   "id": "9aa0fc32",
   "metadata": {},
   "outputs": [
    {
     "name": "stderr",
     "output_type": "stream",
     "text": [
      "100%|██████████████████████████████████████████████████████████████████████████████| 3000/3000 [06:49<00:00,  7.32it/s]\n"
     ]
    },
    {
     "data": {
      "text/plain": [
       "(0.025354497639936836,\n",
       " 0.005675948080319806,\n",
       " 0.02693221347130796,\n",
       " 0.880983594187087)"
      ]
     },
     "execution_count": 54,
     "metadata": {},
     "output_type": "execute_result"
    }
   ],
   "source": [
    "N_m = 50; M = 5000\n",
    "rho_u = 0.; rho_W = 1.\n",
    "\n",
    "simulate(N_m = N_m, M = M, rho_u = rho_u, rho_W = rho_W, var_beta = 1., rho_beta = 0.5)"
   ]
  },
  {
   "cell_type": "markdown",
   "id": "dc80606f",
   "metadata": {},
   "source": [
    "#### $\\rho_u = 0.5$ and $\\rho_W = 0$"
   ]
  },
  {
   "cell_type": "code",
   "execution_count": 55,
   "id": "24a8a840",
   "metadata": {},
   "outputs": [
    {
     "name": "stderr",
     "output_type": "stream",
     "text": [
      "100%|██████████████████████████████████████████████████████████████████████████████| 3000/3000 [06:47<00:00,  7.36it/s]\n"
     ]
    },
    {
     "data": {
      "text/plain": [
       "(0.005324419033983897,\n",
       " 0.005684519453593874,\n",
       " 0.011490815720732205,\n",
       " -0.03975251952238736)"
      ]
     },
     "execution_count": 55,
     "metadata": {},
     "output_type": "execute_result"
    }
   ],
   "source": [
    "N_m = 50; M = 5000\n",
    "rho_u = 0.5; rho_W = 0.\n",
    "\n",
    "simulate(N_m = N_m, M = M, rho_u = rho_u, rho_W = rho_W, var_beta = 1., rho_beta = 0.5)"
   ]
  },
  {
   "cell_type": "markdown",
   "id": "9d537667",
   "metadata": {},
   "source": [
    "#### $\\rho_u = 0.5$ and $\\rho_W = 0.5$"
   ]
  },
  {
   "cell_type": "code",
   "execution_count": 56,
   "id": "6a145ea9",
   "metadata": {},
   "outputs": [
    {
     "name": "stderr",
     "output_type": "stream",
     "text": [
      "100%|██████████████████████████████████████████████████████████████████████████████| 3000/3000 [07:00<00:00,  7.14it/s]\n"
     ]
    },
    {
     "data": {
      "text/plain": [
       "(0.018236197195495726,\n",
       " 0.005698156881282647,\n",
       " 0.020812157666009558,\n",
       " 0.7489572899547116)"
      ]
     },
     "execution_count": 56,
     "metadata": {},
     "output_type": "execute_result"
    }
   ],
   "source": [
    "N_m = 50; M = 5000\n",
    "rho_u = 0.5; rho_W = 0.5\n",
    "\n",
    "simulate(N_m = N_m, M = M, rho_u = rho_u, rho_W = rho_W, var_beta = 1., rho_beta = 0.5)"
   ]
  },
  {
   "cell_type": "markdown",
   "id": "f5895822",
   "metadata": {},
   "source": [
    "#### $\\rho_u = 0.5$ and $\\rho_W = 1$"
   ]
  },
  {
   "cell_type": "code",
   "execution_count": 57,
   "id": "aa7951c4",
   "metadata": {},
   "outputs": [
    {
     "name": "stderr",
     "output_type": "stream",
     "text": [
      "100%|██████████████████████████████████████████████████████████████████████████████| 3000/3000 [06:46<00:00,  7.37it/s]\n"
     ]
    },
    {
     "data": {
      "text/plain": [
       "(0.026885079440661777,\n",
       " 0.005668191541657279,\n",
       " 0.0286217371534457,\n",
       " 0.8775259194148946)"
      ]
     },
     "execution_count": 57,
     "metadata": {},
     "output_type": "execute_result"
    }
   ],
   "source": [
    "N_m = 50; M = 5000\n",
    "rho_u = 0.5; rho_W = 1.\n",
    "\n",
    "simulate(N_m = N_m, M = M, rho_u = rho_u, rho_W = rho_W, var_beta = 1., rho_beta = 0.5)"
   ]
  },
  {
   "cell_type": "markdown",
   "id": "ff10d316",
   "metadata": {},
   "source": [
    "#### $\\rho_u = 1$ and $\\rho_W = 0$"
   ]
  },
  {
   "cell_type": "code",
   "execution_count": 58,
   "id": "6105c25d",
   "metadata": {},
   "outputs": [
    {
     "name": "stderr",
     "output_type": "stream",
     "text": [
      "100%|██████████████████████████████████████████████████████████████████████████████| 3000/3000 [06:53<00:00,  7.26it/s]\n"
     ]
    },
    {
     "data": {
      "text/plain": [
       "(0.005234333977619191,\n",
       " 0.005639708398507389,\n",
       " 0.011340052106308207,\n",
       " -0.04554227898167404)"
      ]
     },
     "execution_count": 58,
     "metadata": {},
     "output_type": "execute_result"
    }
   ],
   "source": [
    "N_m = 50; M = 5000\n",
    "rho_u = 1.; rho_W = 0.\n",
    "\n",
    "simulate(N_m = N_m, M = M, rho_u = rho_u, rho_W = rho_W, var_beta = 1., rho_beta = 0.5)"
   ]
  },
  {
   "cell_type": "markdown",
   "id": "efd80479",
   "metadata": {},
   "source": [
    "#### $\\rho_u = 1$ and $\\rho_W = 0.5$"
   ]
  },
  {
   "cell_type": "code",
   "execution_count": 59,
   "id": "ed203c66",
   "metadata": {},
   "outputs": [
    {
     "name": "stderr",
     "output_type": "stream",
     "text": [
      "100%|██████████████████████████████████████████████████████████████████████████████| 3000/3000 [06:33<00:00,  7.62it/s]\n"
     ]
    },
    {
     "data": {
      "text/plain": [
       "(0.01907100884665055,\n",
       " 0.005650330225949053,\n",
       " 0.021727133510651454,\n",
       " 0.7537955300692007)"
      ]
     },
     "execution_count": 59,
     "metadata": {},
     "output_type": "execute_result"
    }
   ],
   "source": [
    "N_m = 50; M = 5000\n",
    "rho_u = 1.; rho_W = 0.5\n",
    "\n",
    "simulate(N_m = N_m, M = M, rho_u = rho_u, rho_W = rho_W, var_beta = 1., rho_beta = 0.5)"
   ]
  },
  {
   "cell_type": "markdown",
   "id": "0954d7ae",
   "metadata": {},
   "source": [
    "#### $\\rho_u = 1$ and $\\rho_W = 1$"
   ]
  },
  {
   "cell_type": "code",
   "execution_count": 60,
   "id": "f808cafe",
   "metadata": {},
   "outputs": [
    {
     "name": "stderr",
     "output_type": "stream",
     "text": [
      "100%|██████████████████████████████████████████████████████████████████████████████| 3000/3000 [05:24<00:00,  9.25it/s]\n"
     ]
    },
    {
     "data": {
      "text/plain": [
       "(0.02891820837278462,\n",
       " 0.005710297205924163,\n",
       " 0.030735023352506607,\n",
       " 0.8811679551138785)"
      ]
     },
     "execution_count": 60,
     "metadata": {},
     "output_type": "execute_result"
    }
   ],
   "source": [
    "N_m = 50; M = 5000\n",
    "rho_u = 1.; rho_W = 1.\n",
    "\n",
    "simulate(N_m = N_m, M = M, rho_u = rho_u, rho_W = rho_W, var_beta = 1., rho_beta = 0.5)"
   ]
  },
  {
   "cell_type": "markdown",
   "id": "59b768c6",
   "metadata": {},
   "source": [
    "## $\\rho_\\beta = 1$"
   ]
  },
  {
   "cell_type": "markdown",
   "id": "80cbe892",
   "metadata": {},
   "source": [
    "### Small M"
   ]
  },
  {
   "cell_type": "markdown",
   "id": "1a2ebe0d",
   "metadata": {},
   "source": [
    "#### $\\rho_u = 0$ and $\\rho_W = 0$"
   ]
  },
  {
   "cell_type": "code",
   "execution_count": 61,
   "id": "028e76cd",
   "metadata": {},
   "outputs": [
    {
     "name": "stderr",
     "output_type": "stream",
     "text": [
      "100%|██████████████████████████████████████████████████████████████████████████████| 3000/3000 [06:05<00:00,  8.20it/s]\n"
     ]
    },
    {
     "data": {
      "text/plain": [
       "(0.005007084838392344,\n",
       " 0.00541106089834781,\n",
       " 0.13446516422490265,\n",
       " -0.00023314727104104172)"
      ]
     },
     "execution_count": 61,
     "metadata": {},
     "output_type": "execute_result"
    }
   ],
   "source": [
    "N_m = 5000; M = 50\n",
    "rho_u = 0.; rho_W = 0.\n",
    "\n",
    "simulate(N_m = N_m, M = M, rho_u = rho_u, rho_W = rho_W, var_beta = 1., rho_beta = 1.)"
   ]
  },
  {
   "cell_type": "markdown",
   "id": "cc00216d",
   "metadata": {},
   "source": [
    "#### $\\rho_u = 0$ and $\\rho_W = 0.5$"
   ]
  },
  {
   "cell_type": "code",
   "execution_count": 62,
   "id": "e3bde919",
   "metadata": {},
   "outputs": [
    {
     "name": "stderr",
     "output_type": "stream",
     "text": [
      "100%|██████████████████████████████████████████████████████████████████████████████| 3000/3000 [06:21<00:00,  7.87it/s]\n"
     ]
    },
    {
     "data": {
      "text/plain": [
       "(0.23251843467486816,\n",
       " 0.005801770499780702,\n",
       " 0.26180631073462046,\n",
       " 0.7886738029598606)"
      ]
     },
     "execution_count": 62,
     "metadata": {},
     "output_type": "execute_result"
    }
   ],
   "source": [
    "N_m = 5000; M = 50\n",
    "rho_u = 0.; rho_W = 0.5\n",
    "\n",
    "simulate(N_m = N_m, M = M, rho_u = rho_u, rho_W = rho_W, var_beta = 1., rho_beta = 1.)"
   ]
  },
  {
   "cell_type": "markdown",
   "id": "817d551d",
   "metadata": {},
   "source": [
    "#### $\\rho_u = 0$ and $\\rho_W = 1$"
   ]
  },
  {
   "cell_type": "code",
   "execution_count": 63,
   "id": "947616cf",
   "metadata": {},
   "outputs": [
    {
     "name": "stderr",
     "output_type": "stream",
     "text": [
      "100%|██████████████████████████████████████████████████████████████████████████████| 3000/3000 [06:02<00:00,  8.27it/s]\n"
     ]
    },
    {
     "data": {
      "text/plain": [
       "(0.36779115139467133,\n",
       " 0.00552411959906697,\n",
       " 0.3613824449441551,\n",
       " 1.035790577075603)"
      ]
     },
     "execution_count": 63,
     "metadata": {},
     "output_type": "execute_result"
    }
   ],
   "source": [
    "N_m = 5000; M = 50\n",
    "rho_u = 0.; rho_W = 1.\n",
    "\n",
    "simulate(N_m = N_m, M = M, rho_u = rho_u, rho_W = rho_W, var_beta = 1., rho_beta = 1.)"
   ]
  },
  {
   "cell_type": "markdown",
   "id": "7e0c5ff6",
   "metadata": {},
   "source": [
    "#### $\\rho_u = 0.5$ and $\\rho_W = 0$"
   ]
  },
  {
   "cell_type": "code",
   "execution_count": 64,
   "id": "4a255e3d",
   "metadata": {},
   "outputs": [
    {
     "name": "stderr",
     "output_type": "stream",
     "text": [
      "100%|██████████████████████████████████████████████████████████████████████████████| 3000/3000 [06:20<00:00,  7.87it/s]\n"
     ]
    },
    {
     "data": {
      "text/plain": [
       "(0.004950407327596477,\n",
       " 0.0053112376489069055,\n",
       " 0.13177516026074515,\n",
       " -0.00021357922032968793)"
      ]
     },
     "execution_count": 64,
     "metadata": {},
     "output_type": "execute_result"
    }
   ],
   "source": [
    "N_m = 5000; M = 50\n",
    "rho_u = 0.5; rho_W = 0.\n",
    "\n",
    "simulate(N_m = N_m, M = M, rho_u = rho_u, rho_W = rho_W, var_beta = 1., rho_beta = 1.)"
   ]
  },
  {
   "cell_type": "markdown",
   "id": "f451bef7",
   "metadata": {},
   "source": [
    "#### $\\rho_u = 0.5$ and $\\rho_W = 0.5$"
   ]
  },
  {
   "cell_type": "code",
   "execution_count": 65,
   "id": "36bc9e5d",
   "metadata": {},
   "outputs": [
    {
     "name": "stderr",
     "output_type": "stream",
     "text": [
      "100%|██████████████████████████████████████████████████████████████████████████████| 3000/3000 [06:47<00:00,  7.36it/s]\n"
     ]
    },
    {
     "data": {
      "text/plain": [
       "(0.23881574848057863,\n",
       " 0.005642324885915299,\n",
       " 0.2635538723355487,\n",
       " 0.8210010758389165)"
      ]
     },
     "execution_count": 65,
     "metadata": {},
     "output_type": "execute_result"
    }
   ],
   "source": [
    "N_m = 5000; M = 50\n",
    "rho_u = 0.5; rho_W = 0.5\n",
    "\n",
    "simulate(N_m = N_m, M = M, rho_u = rho_u, rho_W = rho_W, var_beta = 1., rho_beta = 1.)"
   ]
  },
  {
   "cell_type": "markdown",
   "id": "4a73da9b",
   "metadata": {},
   "source": [
    "#### $\\rho_u = 0.5$ and $\\rho_W = 1$"
   ]
  },
  {
   "cell_type": "code",
   "execution_count": 66,
   "id": "331c9ece",
   "metadata": {},
   "outputs": [
    {
     "name": "stderr",
     "output_type": "stream",
     "text": [
      "100%|██████████████████████████████████████████████████████████████████████████████| 3000/3000 [06:23<00:00,  7.82it/s]\n"
     ]
    },
    {
     "data": {
      "text/plain": [
       "(0.32870289624071236,\n",
       " 0.004868023452753756,\n",
       " 0.32790858857534005,\n",
       " 1.0048516266295413)"
      ]
     },
     "execution_count": 66,
     "metadata": {},
     "output_type": "execute_result"
    }
   ],
   "source": [
    "N_m = 5000; M = 50\n",
    "rho_u = 0.5; rho_W = 1.\n",
    "\n",
    "simulate(N_m = N_m, M = M, rho_u = rho_u, rho_W = rho_W, var_beta = 1., rho_beta = 1.)"
   ]
  },
  {
   "cell_type": "markdown",
   "id": "660ef456",
   "metadata": {},
   "source": [
    "#### $\\rho_u = 1$ and $\\rho_W = 0$"
   ]
  },
  {
   "cell_type": "code",
   "execution_count": 67,
   "id": "83836a6e",
   "metadata": {},
   "outputs": [
    {
     "name": "stderr",
     "output_type": "stream",
     "text": [
      "100%|██████████████████████████████████████████████████████████████████████████████| 3000/3000 [06:58<00:00,  7.17it/s]\n"
     ]
    },
    {
     "data": {
      "text/plain": [
       "(0.005080013331245313,\n",
       " 0.005491503773112557,\n",
       " 0.13717156449438392,\n",
       " -0.00023156103940599407)"
      ]
     },
     "execution_count": 67,
     "metadata": {},
     "output_type": "execute_result"
    }
   ],
   "source": [
    "N_m = 5000; M = 50\n",
    "rho_u = 1.; rho_W = 0.\n",
    "\n",
    "simulate(N_m = N_m, M = M, rho_u = rho_u, rho_W = rho_W, var_beta = 1., rho_beta = 1.)"
   ]
  },
  {
   "cell_type": "markdown",
   "id": "7e2698a9",
   "metadata": {},
   "source": [
    "#### $\\rho_u = 1$ and $\\rho_W = 0.5$"
   ]
  },
  {
   "cell_type": "code",
   "execution_count": 68,
   "id": "2520475d",
   "metadata": {},
   "outputs": [
    {
     "name": "stderr",
     "output_type": "stream",
     "text": [
      "100%|██████████████████████████████████████████████████████████████████████████████| 3000/3000 [06:29<00:00,  7.70it/s]\n"
     ]
    },
    {
     "data": {
      "text/plain": [
       "(0.23149049747866063,\n",
       " 0.005238821639459158,\n",
       " 0.2537172418902918,\n",
       " 0.8323942888260725)"
      ]
     },
     "execution_count": 68,
     "metadata": {},
     "output_type": "execute_result"
    }
   ],
   "source": [
    "N_m = 5000; M = 50\n",
    "rho_u = 1.; rho_W = 0.5\n",
    "\n",
    "simulate(N_m = N_m, M = M, rho_u = rho_u, rho_W = rho_W, var_beta = 1., rho_beta = 1.)"
   ]
  },
  {
   "cell_type": "markdown",
   "id": "2be675e8",
   "metadata": {},
   "source": [
    "#### $\\rho_u = 1$ and $\\rho_W = 1$"
   ]
  },
  {
   "cell_type": "code",
   "execution_count": 69,
   "id": "18862ab3",
   "metadata": {},
   "outputs": [
    {
     "name": "stderr",
     "output_type": "stream",
     "text": [
      "100%|██████████████████████████████████████████████████████████████████████████████| 3000/3000 [06:23<00:00,  7.82it/s]\n"
     ]
    },
    {
     "data": {
      "text/plain": [
       "(0.4403668558822443,\n",
       " 0.006144598501678928,\n",
       " 0.434488726820588,\n",
       " 1.0272461615185395)"
      ]
     },
     "execution_count": 69,
     "metadata": {},
     "output_type": "execute_result"
    }
   ],
   "source": [
    "N_m = 5000; M = 50\n",
    "rho_u = 1.; rho_W = 1.\n",
    "\n",
    "simulate(N_m = N_m, M = M, rho_u = rho_u, rho_W = rho_W, var_beta = 1., rho_beta = 1.)"
   ]
  },
  {
   "cell_type": "markdown",
   "id": "a7f11497",
   "metadata": {},
   "source": [
    "### Large M"
   ]
  },
  {
   "cell_type": "markdown",
   "id": "c36e89de",
   "metadata": {},
   "source": [
    "#### $\\rho_u = 0$ and $\\rho_W = 0$"
   ]
  },
  {
   "cell_type": "code",
   "execution_count": 70,
   "id": "0bdc68ca",
   "metadata": {},
   "outputs": [
    {
     "name": "stderr",
     "output_type": "stream",
     "text": [
      "100%|██████████████████████████████████████████████████████████████████████████████| 3000/3000 [06:25<00:00,  7.78it/s]\n"
     ]
    },
    {
     "data": {
      "text/plain": [
       "(0.005362604732080944,\n",
       " 0.005611192882454148,\n",
       " 0.014962144134494612,\n",
       " -0.01418001975861867)"
      ]
     },
     "execution_count": 70,
     "metadata": {},
     "output_type": "execute_result"
    }
   ],
   "source": [
    "N_m = 50; M = 5000\n",
    "rho_u = 0.; rho_W = 0.\n",
    "\n",
    "simulate(N_m = N_m, M = M, rho_u = rho_u, rho_W = rho_W, var_beta = 1., rho_beta = 1.)"
   ]
  },
  {
   "cell_type": "markdown",
   "id": "3612601e",
   "metadata": {},
   "source": [
    "#### $\\rho_u = 0$ and $\\rho_W = 0.5$"
   ]
  },
  {
   "cell_type": "code",
   "execution_count": 71,
   "id": "b933095d",
   "metadata": {},
   "outputs": [
    {
     "name": "stderr",
     "output_type": "stream",
     "text": [
      "100%|██████████████████████████████████████████████████████████████████████████████| 3000/3000 [06:30<00:00,  7.69it/s]\n"
     ]
    },
    {
     "data": {
      "text/plain": [
       "(0.022585857998273794,\n",
       " 0.005683871636444782,\n",
       " 0.026925068411684655,\n",
       " 0.6898326367024071)"
      ]
     },
     "execution_count": 71,
     "metadata": {},
     "output_type": "execute_result"
    }
   ],
   "source": [
    "N_m = 50; M = 5000\n",
    "rho_u = 0.; rho_W = 0.5\n",
    "\n",
    "simulate(N_m = N_m, M = M, rho_u = rho_u, rho_W = rho_W, var_beta = 1., rho_beta = 1.)"
   ]
  },
  {
   "cell_type": "markdown",
   "id": "8fa9169b",
   "metadata": {},
   "source": [
    "#### $\\rho_u = 0$ and $\\rho_W = 1$"
   ]
  },
  {
   "cell_type": "code",
   "execution_count": 72,
   "id": "28d0721d",
   "metadata": {},
   "outputs": [
    {
     "name": "stderr",
     "output_type": "stream",
     "text": [
      "100%|██████████████████████████████████████████████████████████████████████████████| 3000/3000 [06:26<00:00,  7.76it/s]\n"
     ]
    },
    {
     "data": {
      "text/plain": [
       "(0.03551128128607302,\n",
       " 0.005613450097705385,\n",
       " 0.03713869834486508,\n",
       " 0.9122761060210737)"
      ]
     },
     "execution_count": 72,
     "metadata": {},
     "output_type": "execute_result"
    }
   ],
   "source": [
    "N_m = 50; M = 5000\n",
    "rho_u = 0.; rho_W = 1.\n",
    "\n",
    "simulate(N_m = N_m, M = M, rho_u = rho_u, rho_W = rho_W, var_beta = 1., rho_beta = 1.)"
   ]
  },
  {
   "cell_type": "markdown",
   "id": "68375ec4",
   "metadata": {},
   "source": [
    "#### $\\rho_u = 0.5$ and $\\rho_W = 0$"
   ]
  },
  {
   "cell_type": "code",
   "execution_count": 73,
   "id": "e23c7bab",
   "metadata": {},
   "outputs": [
    {
     "name": "stderr",
     "output_type": "stream",
     "text": [
      "100%|██████████████████████████████████████████████████████████████████████████████| 3000/3000 [06:51<00:00,  7.30it/s]\n"
     ]
    },
    {
     "data": {
      "text/plain": [
       "(0.005344432300866921,\n",
       " 0.0056595204792059,\n",
       " 0.015107136124271127,\n",
       " -0.01767225743242215)"
      ]
     },
     "execution_count": 73,
     "metadata": {},
     "output_type": "execute_result"
    }
   ],
   "source": [
    "N_m = 50; M = 5000\n",
    "rho_u = 0.5; rho_W = 0.\n",
    "\n",
    "simulate(N_m = N_m, M = M, rho_u = rho_u, rho_W = rho_W, var_beta = 1., rho_beta = 1.)"
   ]
  },
  {
   "cell_type": "markdown",
   "id": "112bd215",
   "metadata": {},
   "source": [
    "#### $\\rho_u = 0.5$ and $\\rho_W = 0.5$"
   ]
  },
  {
   "cell_type": "code",
   "execution_count": 74,
   "id": "03bc67bb",
   "metadata": {},
   "outputs": [
    {
     "name": "stderr",
     "output_type": "stream",
     "text": [
      "100%|██████████████████████████████████████████████████████████████████████████████| 3000/3000 [05:58<00:00,  8.37it/s]\n"
     ]
    },
    {
     "data": {
      "text/plain": [
       "(0.024038919607367572,\n",
       " 0.005712106518729973,\n",
       " 0.027976374408218287,\n",
       " 0.7269408135928298)"
      ]
     },
     "execution_count": 74,
     "metadata": {},
     "output_type": "execute_result"
    }
   ],
   "source": [
    "N_m = 50; M = 5000\n",
    "rho_u = 0.5; rho_W = 0.5\n",
    "\n",
    "simulate(N_m = N_m, M = M, rho_u = rho_u, rho_W = rho_W, var_beta = 1., rho_beta = 1.)"
   ]
  },
  {
   "cell_type": "markdown",
   "id": "0459be90",
   "metadata": {},
   "source": [
    "#### $\\rho_u = 0.5$ and $\\rho_W = 1$"
   ]
  },
  {
   "cell_type": "code",
   "execution_count": 75,
   "id": "a8374174",
   "metadata": {},
   "outputs": [
    {
     "name": "stderr",
     "output_type": "stream",
     "text": [
      "100%|██████████████████████████████████████████████████████████████████████████████| 3000/3000 [06:29<00:00,  7.69it/s]\n"
     ]
    },
    {
     "data": {
      "text/plain": [
       "(0.03560010222380853,\n",
       " 0.005650091560707229,\n",
       " 0.03870402922937926,\n",
       " 0.8426860329833817)"
      ]
     },
     "execution_count": 75,
     "metadata": {},
     "output_type": "execute_result"
    }
   ],
   "source": [
    "N_m = 50; M = 5000\n",
    "rho_u = 0.5; rho_W = 1.\n",
    "\n",
    "simulate(N_m = N_m, M = M, rho_u = rho_u, rho_W = rho_W, var_beta = 1., rho_beta = 1.)"
   ]
  },
  {
   "cell_type": "markdown",
   "id": "83caf7b4",
   "metadata": {},
   "source": [
    "#### $\\rho_u = 1$ and $\\rho_W = 0$"
   ]
  },
  {
   "cell_type": "code",
   "execution_count": 76,
   "id": "a05f648d",
   "metadata": {},
   "outputs": [
    {
     "name": "stderr",
     "output_type": "stream",
     "text": [
      "100%|██████████████████████████████████████████████████████████████████████████████| 3000/3000 [06:16<00:00,  7.96it/s]\n"
     ]
    },
    {
     "data": {
      "text/plain": [
       "(0.0052586676969412875,\n",
       " 0.005705700793954134,\n",
       " 0.01524578099300228,\n",
       " -0.024522036342860574)"
      ]
     },
     "execution_count": 76,
     "metadata": {},
     "output_type": "execute_result"
    }
   ],
   "source": [
    "N_m = 50; M = 5000\n",
    "rho_u = 1.; rho_W = 0.\n",
    "\n",
    "simulate(N_m = N_m, M = M, rho_u = rho_u, rho_W = rho_W, var_beta = 1., rho_beta = 1.)"
   ]
  },
  {
   "cell_type": "markdown",
   "id": "1371b910",
   "metadata": {},
   "source": [
    "#### $\\rho_u = 1$ and $\\rho_W = 0.5$"
   ]
  },
  {
   "cell_type": "code",
   "execution_count": 77,
   "id": "4c5e35ba",
   "metadata": {},
   "outputs": [
    {
     "name": "stderr",
     "output_type": "stream",
     "text": [
      "100%|██████████████████████████████████████████████████████████████████████████████| 3000/3000 [06:18<00:00,  7.93it/s]\n"
     ]
    },
    {
     "data": {
      "text/plain": [
       "(0.025124816054981257,\n",
       " 0.005683037902944131,\n",
       " 0.02868124869539785,\n",
       " 0.7578723233309002)"
      ]
     },
     "execution_count": 77,
     "metadata": {},
     "output_type": "execute_result"
    }
   ],
   "source": [
    "N_m = 50; M = 5000\n",
    "rho_u = 1.; rho_W = 0.5\n",
    "\n",
    "simulate(N_m = N_m, M = M, rho_u = rho_u, rho_W = rho_W, var_beta = 1., rho_beta = 1.)"
   ]
  },
  {
   "cell_type": "markdown",
   "id": "1cc63e0d",
   "metadata": {},
   "source": [
    "#### $\\rho_u = 1$ and $\\rho_W = 1$"
   ]
  },
  {
   "cell_type": "code",
   "execution_count": 78,
   "id": "7c6985ad",
   "metadata": {},
   "outputs": [
    {
     "name": "stderr",
     "output_type": "stream",
     "text": [
      "100%|██████████████████████████████████████████████████████████████████████████████| 3000/3000 [05:52<00:00,  8.52it/s]\n"
     ]
    },
    {
     "data": {
      "text/plain": [
       "(0.036893166411783404,\n",
       " 0.005668115808451327,\n",
       " 0.04007963124706603,\n",
       " 0.8441980489512403)"
      ]
     },
     "execution_count": 78,
     "metadata": {},
     "output_type": "execute_result"
    }
   ],
   "source": [
    "N_m = 50; M = 5000\n",
    "rho_u = 1.; rho_W = 1.\n",
    "\n",
    "simulate(N_m = N_m, M = M, rho_u = rho_u, rho_W = rho_W, var_beta = 1., rho_beta = 1.)"
   ]
  },
  {
   "cell_type": "markdown",
   "id": "2bd2855e",
   "metadata": {},
   "source": [
    "## Sensitivity to $\\rho_W$ and $\\rho_u$"
   ]
  },
  {
   "cell_type": "code",
   "execution_count": 79,
   "id": "fe049397",
   "metadata": {},
   "outputs": [
    {
     "name": "stderr",
     "output_type": "stream",
     "text": [
      "100%|███████████████████████████████████████████████████████████████████████████████| 11/11 [1:06:53<00:00, 364.89s/it]\n"
     ]
    },
    {
     "data": {
      "image/png": "[encoded data removed]",
      "text/plain": [
       "<Figure size 432x288 with 1 Axes>"
      ]
     },
     "metadata": {
      "needs_background": "light"
     },
     "output_type": "display_data"
    }
   ],
   "source": [
    "M = 50; N_m = 5000\n",
    "\n",
    "rho_u = 1.0\n",
    "rho_Ws = [round(0.1 * i, 1) for i in range(0, 11)]\n",
    "rho_beta = 1.0\n",
    "\n",
    "lambs = []\n",
    "\n",
    "for rho_W in tqdm(rho_Ws):\n",
    "\n",
    "    se_sim, se_EHW, se_LZ, lamb = simulate(N_m = N_m, M = M, rho_u = rho_u, rho_W = rho_W,\n",
    "                                           var_beta = 1., rho_beta = rho_beta, verbose = False)\n",
    "    lambs += [lamb]\n",
    "\n",
    "plt.plot(rho_Ws, lambs)\n",
    "plt.xlabel(r'$\\rho_{W}$')\n",
    "plt.ylabel(r'$\\lambda$')\n",
    "plt.ylim((-0.05, 1.10))\n",
    "plt.savefig('./images/newimage03', bbox_inches = 'tight')\n",
    "plt.show()"
   ]
  },
  {
   "cell_type": "code",
   "execution_count": 80,
   "id": "c58a303f",
   "metadata": {},
   "outputs": [
    {
     "name": "stderr",
     "output_type": "stream",
     "text": [
      "100%|███████████████████████████████████████████████████████████████████████████████| 11/11 [1:03:44<00:00, 347.67s/it]\n"
     ]
    },
    {
     "data": {
      "image/png": "[encoded data removed]",
      "text/plain": [
       "<Figure size 432x288 with 1 Axes>"
      ]
     },
     "metadata": {
      "needs_background": "light"
     },
     "output_type": "display_data"
    }
   ],
   "source": [
    "M = 50; N_m = 5000\n",
    "\n",
    "rho_W = 0.5\n",
    "rho_us = [round(0.1 * i, 1) for i in range(0, 11)]\n",
    "rho_beta = 1.0\n",
    "\n",
    "lambs = []\n",
    "\n",
    "for rho_u in tqdm(rho_us):\n",
    "\n",
    "    se_sim, se_EHW, se_LZ, lamb = simulate(N_m = N_m, M = M, rho_u = rho_u, rho_W = rho_W,\n",
    "                                           var_beta = 1., rho_beta = rho_beta, verbose = False)\n",
    "    lambs += [lamb]\n",
    "\n",
    "plt.plot(rho_us, lambs)\n",
    "plt.xlabel(r'$\\rho_{u}$')\n",
    "plt.ylabel(r'$\\lambda$')\n",
    "plt.ylim((-0.05, 1.10))\n",
    "plt.savefig('./images/newimage04', bbox_inches = 'tight')\n",
    "plt.show()"
   ]
  },
  {
   "cell_type": "code",
   "execution_count": 81,
   "id": "7cc03fe5",
   "metadata": {},
   "outputs": [
    {
     "name": "stderr",
     "output_type": "stream",
     "text": [
      "100%|█████████████████████████████████████████████████████████████████████████████████| 10/10 [54:55<00:00, 329.54s/it]\n"
     ]
    },
    {
     "data": {
      "image/png": "[encoded data removed]",
      "text/plain": [
       "<Figure size 432x288 with 1 Axes>"
      ]
     },
     "metadata": {
      "needs_background": "light"
     },
     "output_type": "display_data"
    }
   ],
   "source": [
    "M = 50; N_m = 5000\n",
    "\n",
    "rho_W = 0.2\n",
    "rho_u = 0.\n",
    "rho_betas = [round(0.1 * i, 1) for i in range(1, 11)]\n",
    "\n",
    "se_sims = []; se_EHWs = []; se_LZs = []; lambs = []\n",
    "\n",
    "for rho_beta in tqdm(rho_betas):\n",
    "\n",
    "    se_sim, se_EHW, se_LZ, lamb = simulate(N_m = N_m, M = M, rho_u = rho_u, rho_W = rho_W,\n",
    "                                           var_beta = 1., rho_beta = rho_beta, verbose = False)\n",
    "    se_sims += [se_sim]\n",
    "    se_EHWs += [se_EHW]\n",
    "    se_LZs += [se_LZ]\n",
    "    lambs += [lamb]\n",
    "\n",
    "plt.plot(rho_betas, se_sims, label = 'Simulated')\n",
    "plt.plot(rho_betas, se_EHWs, label = 'EHW')\n",
    "plt.plot(rho_betas, se_LZs, label = 'LZ')\n",
    "plt.xlabel(r'$\\rho_{\\beta}$')\n",
    "plt.ylabel('standard error')\n",
    "plt.legend()\n",
    "plt.savefig('./images/newimage05', bbox_inches = 'tight')\n",
    "plt.show()"
   ]
  },
  {
   "cell_type": "code",
   "execution_count": 82,
   "id": "a0bdc13c",
   "metadata": {},
   "outputs": [
    {
     "data": {
      "image/png": "[encoded data removed]",
      "text/plain": [
       "<Figure size 432x288 with 1 Axes>"
      ]
     },
     "metadata": {
      "needs_background": "light"
     },
     "output_type": "display_data"
    }
   ],
   "source": [
    "plt.plot(rho_betas, lambs)\n",
    "plt.xlabel(r'$\\rho_{\\beta}$')\n",
    "plt.ylabel(r'$\\lambda$')\n",
    "plt.ylim((-0.05, 1.10))\n",
    "plt.savefig('./images/newimage06', bbox_inches = 'tight')\n",
    "plt.show()"
   ]
  },
  {
   "cell_type": "code",
   "execution_count": 83,
   "id": "a43edf0d",
   "metadata": {},
   "outputs": [],
   "source": [
    "# import statsmodels.formula.api as smf\n",
    "\n",
    "# N_m = 5000; M = 50\n",
    "# mu_alpha = 1.; var_alpha = 0.; rho_alpha = 0.; mu_beta = 2.\n",
    "# mu_W = 2.; var_W = 1.; var_u = 1.; var_beta = 1.\n",
    "\n",
    "# rho_beta = 1.; rho_u = 1.; rho_W = 0.5\n",
    "\n",
    "# alpha, beta = alpha_beta(N_m, M, mu_alpha, var_alpha, rho_alpha, mu_beta, var_beta, rho_beta)\n",
    "\n",
    "# Y, W, X, C = generate(N_m, M, alpha, beta, mu_W, var_W, rho_W, var_u, rho_u)\n",
    "\n",
    "# data = pd.DataFrame(np.concatenate([Y, X, C], axis = 1))\n",
    "# data.columns = ['Y', 'const', 'W', 'C']"
   ]
  },
  {
   "cell_type": "code",
   "execution_count": 84,
   "id": "7a3aa049",
   "metadata": {},
   "outputs": [],
   "source": [
    "# mod = smf.mixedlm('Y ~ W', data, groups = data['C'], re_formula = '~W')\n",
    "# mod = mod.fit(method = ['lbfgs'])\n",
    "# mod.summary()"
   ]
  },
  {
   "cell_type": "code",
   "execution_count": 85,
   "id": "7ddf9753",
   "metadata": {},
   "outputs": [],
   "source": [
    "# mod2 = sm.OLS(Y, X).fit(cov_type = 'HC0')\n",
    "# mod2.summary()"
   ]
  }
 ],
 "metadata": {
  "kernelspec": {
   "display_name": "Python (Finance)",
   "language": "python",
   "name": "finance"
  },
  "language_info": {
   "codemirror_mode": {
    "name": "ipython",
    "version": 3
   },
   "file_extension": ".py",
   "mimetype": "text/x-python",
   "name": "python",
   "nbconvert_exporter": "python",
   "pygments_lexer": "ipython3",
   "version": "3.9.7"
  }
 },
 "nbformat": 4,
 "nbformat_minor": 5
}
